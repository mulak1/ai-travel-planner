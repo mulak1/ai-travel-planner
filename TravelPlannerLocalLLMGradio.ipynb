{
 "cells": [
  {
   "cell_type": "code",
   "execution_count": 1,
   "id": "07f10105-b1b2-4c72-bdb2-9367bcfdefee",
   "metadata": {},
   "outputs": [
    {
     "data": {
      "application/vnd.jupyter.widget-view+json": {
       "model_id": "c9ff99ee3d0f4a0faf7428766c69c8fe",
       "version_major": 2,
       "version_minor": 0
      },
      "text/plain": [
       "IntSlider(value=0)"
      ]
     },
     "execution_count": 1,
     "metadata": {},
     "output_type": "execute_result"
    }
   ],
   "source": [
    "import ipywidgets as widgets\n",
    "widgets.IntSlider()\n"
   ]
  },
  {
   "cell_type": "code",
   "execution_count": 3,
   "id": "4d040cf2-4d3c-440e-af80-96b46f5c29cb",
   "metadata": {},
   "outputs": [
    {
     "name": "stdout",
     "output_type": "stream",
     "text": [
      "* Running on local URL:  http://127.0.0.1:7861\n",
      "\n",
      "To create a public link, set `share=True` in `launch()`.\n"
     ]
    },
    {
     "data": {
      "text/html": [
       "<div><iframe src=\"http://127.0.0.1:7861/\" width=\"100%\" height=\"500\" allow=\"autoplay; camera; microphone; clipboard-read; clipboard-write;\" frameborder=\"0\" allowfullscreen></iframe></div>"
      ],
      "text/plain": [
       "<IPython.core.display.HTML object>"
      ]
     },
     "metadata": {},
     "output_type": "display_data"
    },
    {
     "data": {
      "text/plain": []
     },
     "execution_count": 3,
     "metadata": {},
     "output_type": "execute_result"
    }
   ],
   "source": [
    "import gradio as gr\n",
    "gr.Interface(lambda x: f\"Hello {x}!\", gr.Textbox(), gr.Textbox()).launch()\n"
   ]
  },
  {
   "cell_type": "code",
   "execution_count": 9,
   "id": "2a4b0e6a-cca4-4277-8178-c9eb586d9134",
   "metadata": {},
   "outputs": [
    {
     "name": "stdout",
     "output_type": "stream",
     "text": [
      "* Running on local URL:  http://127.0.0.1:7865\n",
      "\n",
      "To create a public link, set `share=True` in `launch()`.\n"
     ]
    },
    {
     "data": {
      "text/html": [
       "<div><iframe src=\"http://127.0.0.1:7865/\" width=\"100%\" height=\"500\" allow=\"autoplay; camera; microphone; clipboard-read; clipboard-write;\" frameborder=\"0\" allowfullscreen></iframe></div>"
      ],
      "text/plain": [
       "<IPython.core.display.HTML object>"
      ]
     },
     "metadata": {},
     "output_type": "display_data"
    },
    {
     "data": {
      "text/plain": []
     },
     "execution_count": 9,
     "metadata": {},
     "output_type": "execute_result"
    }
   ],
   "source": [
    "import gradio as gr\n",
    "import ollama\n",
    "import time  # For simulating status updates\n",
    "\n",
    "# Store conversation history\n",
    "conversation_history = []\n",
    "\n",
    "# Function to generate the initial itinerary with a loading message\n",
    "def generate_itinerary(country, days, activities, status):\n",
    "    global conversation_history  \n",
    "    conversation_history = []  # Reset history for new itinerary\n",
    "\n",
    "    status = \"⏳ Generating your itinerary... Please wait.\"  # Update status\n",
    "    time.sleep(1)  # Simulate brief delay for better UX\n",
    "\n",
    "    prompt = f\"Plan a {days}-day trip to {country}, including these activities: {activities}. Keep it detailed yet concise.\"\n",
    "    \n",
    "    response = ollama.chat(model=\"llama3.2:1b\", messages=[{\"role\": \"user\", \"content\": prompt}])\n",
    "    \n",
    "    itinerary = response['message']['content']\n",
    "\n",
    "    # Add response to conversation history\n",
    "    conversation_history.append({\"role\": \"user\", \"content\": prompt})\n",
    "    conversation_history.append({\"role\": \"assistant\", \"content\": itinerary})\n",
    "\n",
    "    return itinerary, \"✅ Itinerary ready! You can refine it below.\"  # Update status when done\n",
    "\n",
    "# Function to refine the itinerary through chat\n",
    "def chat_with_ollama(user_input, status):\n",
    "    global conversation_history\n",
    "\n",
    "    status = \"💬 Thinking... Please wait.\"  # Show status message while AI processes\n",
    "    \n",
    "    # Add user input to conversation history\n",
    "    conversation_history.append({\"role\": \"user\", \"content\": user_input})\n",
    "\n",
    "    # Generate response\n",
    "    response = ollama.chat(model=\"llama3.2:1b\", messages=conversation_history)\n",
    "    \n",
    "    # Save assistant's response\n",
    "    conversation_history.append({\"role\": \"assistant\", \"content\": response['message']['content']})\n",
    "\n",
    "    # Format chat history for display\n",
    "    formatted_history = \"\\n\\n\".join([f\"**{msg['role'].capitalize()}**: {msg['content']}\" for msg in conversation_history])\n",
    "    \n",
    "    return formatted_history, \"✅ Response ready!\"  # Update status\n",
    "\n",
    "# Reset function to clear chat history\n",
    "def reset_chat():\n",
    "    global conversation_history\n",
    "    conversation_history = []\n",
    "    return \"Chat reset. Start a new itinerary!\", \"🔄 Chat reset. Ready for a new plan!\"\n",
    "\n",
    "# Create the Gradio UI\n",
    "with gr.Blocks() as demo:\n",
    "    gr.Markdown(\"## 🏝️ AI Travel Itinerary Planner (Interactive)\")\n",
    "    \n",
    "    with gr.Row():\n",
    "        country = gr.Textbox(label=\"Destination Country\", placeholder=\"e.g., Sweden\")\n",
    "        days = gr.Number(label=\"Number of Days\", value=3)\n",
    "    \n",
    "    activities = gr.Textbox(label=\"Activities (comma-separated)\", placeholder=\"e.g., nature walks, cycling, food tours\")\n",
    "\n",
    "    generate_btn = gr.Button(\"✈️ Generate Initial Itinerary\")\n",
    "    \n",
    "    chatbox = gr.Textbox(label=\"Chat with AI\", placeholder=\"Ask follow-up questions...\", lines=2)\n",
    "    chat_output = gr.Markdown(label=\"Conversation History\")  \n",
    "\n",
    "    refine_btn = gr.Button(\"💬 Ask AI\")\n",
    "    reset_btn = gr.Button(\"🔄 Reset Chat\")\n",
    "\n",
    "    # Status message stored in gr.State()\n",
    "    status = gr.State(\"ℹ️ Click 'Generate Itinerary' to start.\")\n",
    "    status_display = gr.Markdown(status.value)\n",
    "\n",
    "    # Connect functions to buttons\n",
    "    generate_btn.click(fn=generate_itinerary, inputs=[country, days, activities, status], outputs=[chat_output, status_display])\n",
    "    refine_btn.click(fn=chat_with_ollama, inputs=[chatbox, status], outputs=[chat_output, status_display])\n",
    "    reset_btn.click(fn=reset_chat, outputs=[chat_output, status_display])\n",
    "\n",
    "demo.launch()\n",
    "\n",
    "\n",
    "\n",
    "\n",
    "\n",
    "\n"
   ]
  },
  {
   "cell_type": "code",
   "execution_count": null,
   "id": "b0f0f402-ff23-4d95-89c9-9e40a7e74bfe",
   "metadata": {},
   "outputs": [],
   "source": []
  }
 ],
 "metadata": {
  "kernelspec": {
   "display_name": "Python 3 (ipykernel)",
   "language": "python",
   "name": "python3"
  },
  "language_info": {
   "codemirror_mode": {
    "name": "ipython",
    "version": 3
   },
   "file_extension": ".py",
   "mimetype": "text/x-python",
   "name": "python",
   "nbconvert_exporter": "python",
   "pygments_lexer": "ipython3",
   "version": "3.13.2"
  }
 },
 "nbformat": 4,
 "nbformat_minor": 5
}
